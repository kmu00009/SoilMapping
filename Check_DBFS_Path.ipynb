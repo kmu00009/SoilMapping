{
 "cells": [
  {
   "cell_type": "markdown",
   "id": "858ab4e0",
   "metadata": {},
   "source": [
    "# Check DBFS Classification Path\n",
    "This notebook checks the contents of '/dbfs/mnt/lab/unrestricted/KritiM/classification/' and verifies trainingSample.csv accessibility."
   ]
  },
  {
   "cell_type": "code",
   "execution_count": null,
   "id": "7410bf08",
   "metadata": {},
   "outputs": [],
   "source": [
    "# Check if we're running in Databricks environment\n",
    "print(\"Checking Databricks environment...\")\n",
    "try:\n",
    "    from pyspark.dbutils import DBUtils\n",
    "    from pyspark.sql import SparkSession\n",
    "    \n",
    "    # Create a Spark session\n",
    "    spark = SparkSession.builder.appName(\"PathCheck\").getOrCreate()\n",
    "    dbutils = DBUtils(spark)\n",
    "    \n",
    "    # Try to list the path\n",
    "    print(\"\\nChecking path using dbutils.fs.ls:\")\n",
    "    display(dbutils.fs.ls(\"dbfs:/mnt/lab/unrestricted/KritiM/classification/\"))\n",
    "except Exception as e:\n",
    "    print(f\"Error: Not running in Databricks environment or not properly configured.\\nDetails: {str(e)}\\n\")\n",
    "    print(\"Please make sure you're connected to a Databricks cluster to run this notebook.\")"
   ]
  },
  {
   "cell_type": "code",
   "execution_count": null,
   "id": "c2984d91",
   "metadata": {},
   "outputs": [],
   "source": [
    "# Method 2: Using os.listdir (filesystem way)\n",
    "import os\n",
    "print(\"\\nChecking path using os.listdir:\")\n",
    "path = \"/dbfs/mnt/lab/unrestricted/KritiM/classification/\"\n",
    "try:\n",
    "    files = os.listdir(path)\n",
    "    for f in files:\n",
    "        fpath = os.path.join(path, f)\n",
    "        fsize = os.path.getsize(fpath) if os.path.isfile(fpath) else \"DIR\"\n",
    "        print(f\"{f:<30} {fsize:>10}\")\n",
    "except Exception as e:\n",
    "    print(f\"Error: {str(e)}\")"
   ]
  },
  {
   "cell_type": "code",
   "execution_count": null,
   "id": "b98b0244",
   "metadata": {},
   "outputs": [],
   "source": [
    "# Method 3: Check specific file (trainingSample.csv)\n",
    "print(\"\\nChecking for trainingSample.csv:\")\n",
    "csv_path = \"/dbfs/mnt/lab/unrestricted/KritiM/classification/trainingSample.csv\"\n",
    "if os.path.exists(csv_path):\n",
    "    size_mb = os.path.getsize(csv_path) / (1024 * 1024)\n",
    "    print(f\"trainingSample.csv exists, size: {size_mb:.2f} MB\")\n",
    "    \n",
    "    # Preview first few lines if it exists\n",
    "    import pandas as pd\n",
    "    try:\n",
    "        df = pd.read_csv(csv_path, nrows=5)\n",
    "        print(\"\\nFirst 5 rows preview:\")\n",
    "        display(df)\n",
    "    except Exception as e:\n",
    "        print(f\"Error reading CSV: {str(e)}\")\n",
    "else:\n",
    "    print(\"trainingSample.csv not found at this location\")"
   ]
  },
  {
   "cell_type": "code",
   "execution_count": null,
   "id": "adbf06c5",
   "metadata": {},
   "outputs": [],
   "source": [
    "# Method 4: Check mount point status\n",
    "print(\"\\nChecking all mount points:\")\n",
    "mounts = dbutils.fs.mounts()\n",
    "for mount in mounts:\n",
    "    if 'KritiM' in mount.mountPoint:\n",
    "        print(f\"Found relevant mount:\")\n",
    "        print(f\"Mount point: {mount.mountPoint}\")\n",
    "        print(f\"Source: {mount.source}\")"
   ]
  },
  {
   "cell_type": "markdown",
   "id": "d2ed890a",
   "metadata": {},
   "source": [
    "## Alternative Paths\n",
    "If the mount path is not accessible, we can check some alternative locations where the file might be:"
   ]
  },
  {
   "cell_type": "code",
   "execution_count": null,
   "id": "11471e91",
   "metadata": {},
   "outputs": [],
   "source": [
    "# Check alternative locations\n",
    "alt_paths = [\n",
    "    \"dbfs:/FileStore/SoilMapping/classification/\",\n",
    "    \"dbfs:/mnt/default/SoilMapping/classification/\",\n",
    "    \"dbfs:/FileStore/\"\n",
    "]\n",
    "\n",
    "for path in alt_paths:\n",
    "    print(f\"\\nChecking {path}\")\n",
    "    try:\n",
    "        files = dbutils.fs.ls(path)\n",
    "        print(\"Contents:\")\n",
    "        display(files)\n",
    "    except Exception as e:\n",
    "        print(f\"Error or path not accessible: {str(e)}\")"
   ]
  }
 ],
 "metadata": {
  "language_info": {
   "name": "python"
  }
 },
 "nbformat": 4,
 "nbformat_minor": 5
}
